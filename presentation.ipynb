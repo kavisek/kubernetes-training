{
 "cells": [
  {
   "cell_type": "markdown",
   "id": "e730db73",
   "metadata": {
    "slideshow": {
     "slide_type": "slide"
    }
   },
   "source": [
    "![](https://d1.awsstatic.com/PAC/kuberneteslogo.eabc6359f48c8e30b7a138c18177f3fd39338e05.png)\n",
    "\n",
    "<center>\"A lot of YAML manifests\"</center>"
   ]
  },
  {
   "cell_type": "markdown",
   "id": "2d8bedf9",
   "metadata": {
    "slideshow": {
     "slide_type": "slide"
    }
   },
   "source": [
    "### Presentation\n",
    "\n",
    "- A simple overview of some basic kubernetes objects.\n",
    "- We will not be discusing scaling concepts in K8s.\n",
    "- We will not be talking about docker. We assume you have working knowledge of docker.\n",
    "- For the sake of time, we won't be going over pv and pvc."
   ]
  },
  {
   "cell_type": "markdown",
   "id": "c766f062",
   "metadata": {
    "slideshow": {
     "slide_type": "slide"
    }
   },
   "source": [
    "### Basic \n",
    "- Pods: one or more docker containers\n",
    "- Nodes: The underlying VM\n",
    "- Pools: Group of VMs\n",
    "- Deployments: Group of kubernetes objects\n",
    "- Services: expose a deployment to network traffic\n",
    "- NameSpace: a collection of kubernetes objects\n",
    "\n",
    "### Ingress / Egress\n",
    "- Service\n",
    "    - Load Balancer\n",
    "- Ingress Controller\n",
    "\n",
    "### IAM\n",
    "- Service Accounts\n",
    "- Role Bindings\n",
    "- Roles\n",
    "\n",
    "### Storage\n",
    "\n",
    "- Persistent Volumes\n",
    "- Persistent Volume Claims"
   ]
  },
  {
   "cell_type": "markdown",
   "id": "648cdcb8",
   "metadata": {
    "slideshow": {
     "slide_type": "slide"
    }
   },
   "source": [
    "### Other\n",
    "\n",
    "- Jobs\n",
    "- ReplicaSet\n",
    "- StatefulSet\n",
    "- DaemonSet\n",
    "- NodePort (Ingres/Egress)\n",
    "- ClusterIP (Ingres/Egress)"
   ]
  },
  {
   "cell_type": "markdown",
   "id": "739605bd",
   "metadata": {
    "slideshow": {
     "slide_type": "slide"
    }
   },
   "source": [
    "![](https://2.bp.blogspot.com/-a7tbQ-93uCA/W9tl4zgHlVI/AAAAAAAACGE/762QwS7_iFMOodmtN-BOtdeHy_I2TQjpgCLcBGAs/s1600/Screen%2BShot%2B2018-11-01%2Bat%2B1.45.06%2BPM.png)"
   ]
  },
  {
   "cell_type": "markdown",
   "id": "19037c60",
   "metadata": {
    "slideshow": {
     "slide_type": "slide"
    }
   },
   "source": [
    "### Nodes"
   ]
  },
  {
   "cell_type": "markdown",
   "id": "b49b1ab8",
   "metadata": {
    "slideshow": {
     "slide_type": "-"
    }
   },
   "source": [
    "![](https://d33wubrfki0l68.cloudfront.net/5cb72d407cbe2755e581b6de757e0d81760d5b86/a9df9/docs/tutorials/kubernetes-basics/public/images/module_03_nodes.svg)"
   ]
  },
  {
   "cell_type": "markdown",
   "id": "307008af",
   "metadata": {
    "slideshow": {
     "slide_type": "slide"
    }
   },
   "source": [
    "### Pools\n",
    "\n",
    "<center>\"Group of nodes with specific labels and taints\"</center>"
   ]
  },
  {
   "cell_type": "markdown",
   "id": "0f5e4d41",
   "metadata": {
    "slideshow": {
     "slide_type": "slide"
    }
   },
   "source": [
    "![](https://docs.cambridgesemantics.com/anzo/v5.2/userdoc/images/k8s_cluster_concepts.png)"
   ]
  },
  {
   "cell_type": "markdown",
   "id": "90cdc6da",
   "metadata": {
    "slideshow": {
     "slide_type": "slide"
    }
   },
   "source": [
    "### Kubernetes Control Plane\n",
    "\n",
    "![](https://miro.medium.com/max/700/1*QWJijlj7kwd0hIYk8Wsnow.png)"
   ]
  },
  {
   "cell_type": "markdown",
   "id": "ca2d3ca1",
   "metadata": {
    "slideshow": {
     "slide_type": "slide"
    }
   },
   "source": [
    "### Deployment\n",
    "\n",
    "- Think of a deployments as a single application or microservice.\n",
    "- It is a collection of pods and other kubernetes objects\n",
    "- Deployment support the cluster to enforce state managment.\n",
    "- New pods to meet the requirements defined within the deployment configuration\n",
    "- Help up maintain and deploy rolling updates (i.e Deploing new pods without any downtime)\n"
   ]
  },
  {
   "cell_type": "markdown",
   "id": "76ac7738",
   "metadata": {
    "slideshow": {
     "slide_type": "slide"
    }
   },
   "source": [
    "![](https://tachingchen.com/img/kubernetes-rolling-update-with-deployment/deployment-rs-pod.svg)"
   ]
  },
  {
   "cell_type": "markdown",
   "id": "9f8b24b1",
   "metadata": {
    "slideshow": {
     "slide_type": "slide"
    }
   },
   "source": [
    "![](https://2.bp.blogspot.com/-ioqPceAM0DY/W9t1bloR5xI/AAAAAAAACGk/U5oTicERcBsD0ShBDj-uJUhpms8BzTGYACLcBGAs/s1600/Screen%2BShot%2B2018-11-01%2Bat%2B2.51.30%2BPM.png)"
   ]
  },
  {
   "cell_type": "markdown",
   "id": "1884dea1",
   "metadata": {
    "slideshow": {
     "slide_type": "slide"
    }
   },
   "source": [
    "### Connecting to the Cluster\n",
    "\n",
    "kubectl config\n",
    "\n",
    "  current-context: Displays the current-context  \n",
    "  delete-cluster: Delete the specified cluster from the kubeconfig  \n",
    "  delete-context: Delete the specified context from the kubeconfig  \n",
    "  delete-userY: Delete the specified user from the kubeconfig  \n",
    "  get-clusters: Display clusters defined in the kubeconfig  \n",
    "  get-contexts: Describe one or many contexts  \n",
    "  get-users: Display users defined in the kubeconfig  \n",
    "  rename-context: Renames a context from the kubeconfig file.  \n",
    "  set: Sets an individual value in a kubeconfig file  \n",
    "  set-cluster: Sets a cluster entry in kubeconfig  \n",
    "  set-context: Sets a context entry in kubeconfig  \n",
    "  set-credentials: Sets a user entry in kubeconfig  \n",
    "  unset: Unsets an individual value in a kubeconfig file  \n",
    "  use-contex: Sets the current-context in a kubeconfig file  \n",
    "  view: Display merged kubeconfig settings or a specified kubeconfig file"
   ]
  },
  {
   "cell_type": "markdown",
   "id": "d95194b5",
   "metadata": {
    "slideshow": {
     "slide_type": "slide"
    }
   },
   "source": [
    "### Get Context"
   ]
  },
  {
   "cell_type": "code",
   "execution_count": 7,
   "id": "a2b146cd",
   "metadata": {
    "slideshow": {
     "slide_type": "-"
    }
   },
   "outputs": [
    {
     "name": "stdout",
     "output_type": "stream",
     "text": [
      "Fetching cluster endpoint and auth data.\n",
      "kubeconfig entry generated for demo-cluster.\n"
     ]
    }
   ],
   "source": [
    "# get k8 credentials via the Google SDK (i.e Similar on any cloud vendor)\n",
    "!gcloud container clusters get-credentials demo-cluster --zone us-central1-c"
   ]
  },
  {
   "cell_type": "code",
   "execution_count": 36,
   "id": "2ef192b8",
   "metadata": {},
   "outputs": [
    {
     "name": "stdout",
     "output_type": "stream",
     "text": [
      "gke_kavi-prod-gke-demo_us-central1-c_demo-cluster\r\n"
     ]
    }
   ],
   "source": [
    "# Current context\n",
    "!kubectl config current-context"
   ]
  },
  {
   "cell_type": "markdown",
   "id": "9e893f7c",
   "metadata": {
    "slideshow": {
     "slide_type": "slide"
    }
   },
   "source": [
    "### Get and Describe"
   ]
  },
  {
   "cell_type": "code",
   "execution_count": 37,
   "id": "56b117d7",
   "metadata": {
    "slideshow": {
     "slide_type": "-"
    }
   },
   "outputs": [
    {
     "name": "stdout",
     "output_type": "stream",
     "text": [
      "NAME                                           STATUS   ROLES    AGE     VERSION\r\n",
      "gke-demo-cluster-small-compute-c8fb2aa8-g1tw   Ready    <none>   6h27m   v1.21.5-gke.1302\r\n"
     ]
    }
   ],
   "source": [
    "# Ges Notes (List)\n",
    "!kubectl get nodes"
   ]
  },
  {
   "cell_type": "code",
   "execution_count": 38,
   "id": "f5ebe770",
   "metadata": {
    "slideshow": {
     "slide_type": "slide"
    }
   },
   "outputs": [
    {
     "name": "stdout",
     "output_type": "stream",
     "text": [
      "Name:               gke-demo-cluster-small-compute-c8fb2aa8-g1tw\r\n",
      "Roles:              <none>\r\n",
      "Labels:             beta.kubernetes.io/arch=amd64\r\n",
      "                    beta.kubernetes.io/instance-type=e2-small\r\n",
      "                    beta.kubernetes.io/os=linux\r\n",
      "                    cloud.google.com/gke-boot-disk=pd-standard\r\n",
      "                    cloud.google.com/gke-container-runtime=containerd\r\n",
      "                    cloud.google.com/gke-nodepool=small-compute\r\n",
      "                    cloud.google.com/gke-os-distribution=cos\r\n",
      "                    cloud.google.com/gke-preemptible=true\r\n",
      "                    cloud.google.com/machine-family=e2\r\n",
      "                    failure-domain.beta.kubernetes.io/region=us-central1\r\n",
      "                    failure-domain.beta.kubernetes.io/zone=us-central1-c\r\n",
      "                    kubernetes.io/arch=amd64\r\n",
      "                    kubernetes.io/hostname=gke-demo-cluster-small-compute-c8fb2aa8-g1tw\r\n",
      "                    kubernetes.io/os=linux\r\n",
      "                    node.kubernetes.io/instance-type=e2-small\r\n",
      "                    topology.gke.io/zone=us-central1-c\r\n",
      "                    topology.kubernetes.io/region=us-central1\r\n",
      "                    topology.kubernetes.io/zone=us-central1-c\r\n",
      "Annotations:        container.googleapis.com/instance_id: 2992004359107178575\r\n",
      "                    csi.volume.kubernetes.io/nodeid:\r\n",
      "                      {\"pd.csi.storage.gke.io\":\"projects/kavi-prod-gke-demo/zones/us-central1-c/instances/gke-demo-cluster-small-compute-c8fb2aa8-g1tw\"}\r\n",
      "                    node.alpha.kubernetes.io/ttl: 0\r\n",
      "                    node.gke.io/last-applied-node-labels:\r\n",
      "                      cloud.google.com/gke-boot-disk=pd-standard,cloud.google.com/gke-container-runtime=containerd,cloud.google.com/gke-nodepool=small-compute,c...\r\n",
      "                    volumes.kubernetes.io/controller-managed-attach-detach: true\r\n",
      "CreationTimestamp:  Sun, 05 Dec 2021 23:44:12 +0000\r\n",
      "Taints:             <none>\r\n",
      "Unschedulable:      false\r\n",
      "Lease:\r\n",
      "  HolderIdentity:  gke-demo-cluster-small-compute-c8fb2aa8-g1tw\r\n",
      "  AcquireTime:     <unset>\r\n",
      "  RenewTime:       Mon, 06 Dec 2021 06:11:22 +0000\r\n",
      "Conditions:\r\n",
      "  Type                          Status  LastHeartbeatTime                 LastTransitionTime                Reason                          Message\r\n",
      "  ----                          ------  -----------------                 ------------------                ------                          -------\r\n",
      "  FrequentDockerRestart         False   Mon, 06 Dec 2021 06:10:00 +0000   Sun, 05 Dec 2021 23:44:17 +0000   NoFrequentDockerRestart         docker is functioning properly\r\n",
      "  FrequentContainerdRestart     False   Mon, 06 Dec 2021 06:10:00 +0000   Sun, 05 Dec 2021 23:44:17 +0000   NoFrequentContainerdRestart     containerd is functioning properly\r\n",
      "  FrequentUnregisterNetDevice   False   Mon, 06 Dec 2021 06:10:00 +0000   Sun, 05 Dec 2021 23:44:17 +0000   NoFrequentUnregisterNetDevice   node is functioning properly\r\n",
      "  KernelDeadlock                False   Mon, 06 Dec 2021 06:10:00 +0000   Sun, 05 Dec 2021 23:44:17 +0000   KernelHasNoDeadlock             kernel has no deadlock\r\n",
      "  ReadonlyFilesystem            False   Mon, 06 Dec 2021 06:10:00 +0000   Sun, 05 Dec 2021 23:44:17 +0000   FilesystemIsNotReadOnly         Filesystem is not read-only\r\n",
      "  CorruptDockerOverlay2         False   Mon, 06 Dec 2021 06:10:00 +0000   Sun, 05 Dec 2021 23:44:17 +0000   NoCorruptDockerOverlay2         docker overlay2 is functioning properly\r\n",
      "  FrequentKubeletRestart        False   Mon, 06 Dec 2021 06:10:00 +0000   Sun, 05 Dec 2021 23:44:17 +0000   NoFrequentKubeletRestart        kubelet is functioning properly\r\n",
      "  NetworkUnavailable            False   Sun, 05 Dec 2021 23:44:13 +0000   Sun, 05 Dec 2021 23:44:13 +0000   RouteCreated                    NodeController create implicit route\r\n",
      "  MemoryPressure                False   Mon, 06 Dec 2021 06:07:30 +0000   Sun, 05 Dec 2021 23:44:10 +0000   KubeletHasSufficientMemory      kubelet has sufficient memory available\r\n",
      "  DiskPressure                  False   Mon, 06 Dec 2021 06:07:30 +0000   Sun, 05 Dec 2021 23:44:10 +0000   KubeletHasNoDiskPressure        kubelet has no disk pressure\r\n",
      "  PIDPressure                   False   Mon, 06 Dec 2021 06:07:30 +0000   Sun, 05 Dec 2021 23:44:10 +0000   KubeletHasSufficientPID         kubelet has sufficient PID available\r\n",
      "  Ready                         True    Mon, 06 Dec 2021 06:07:30 +0000   Sun, 05 Dec 2021 23:44:12 +0000   KubeletReady                    kubelet is posting ready status. AppArmor enabled\r\n",
      "Addresses:\r\n",
      "  InternalIP:   10.128.0.8\r\n",
      "  ExternalIP:   35.239.178.202\r\n",
      "  InternalDNS:  gke-demo-cluster-small-compute-c8fb2aa8-g1tw.us-central1-c.c.kavi-prod-gke-demo.internal\r\n",
      "  Hostname:     gke-demo-cluster-small-compute-c8fb2aa8-g1tw.us-central1-c.c.kavi-prod-gke-demo.internal\r\n",
      "Capacity:\r\n",
      "  attachable-volumes-gce-pd:  15\r\n",
      "  cpu:                        2\r\n",
      "  ephemeral-storage:          98868448Ki\r\n",
      "  hugepages-1Gi:              0\r\n",
      "  hugepages-2Mi:              0\r\n",
      "  memory:                     2036240Ki\r\n",
      "  pods:                       110\r\n",
      "Allocatable:\r\n",
      "  attachable-volumes-gce-pd:  15\r\n",
      "  cpu:                        940m\r\n",
      "  ephemeral-storage:          47093746742\r\n",
      "  hugepages-1Gi:              0\r\n",
      "  hugepages-2Mi:              0\r\n",
      "  memory:                     1409552Ki\r\n",
      "  pods:                       110\r\n",
      "System Info:\r\n",
      "  Machine ID:                 2b27ca19c4a09b238b2f3cd88ec3c9aa\r\n",
      "  System UUID:                2b27ca19-c4a0-9b23-8b2f-3cd88ec3c9aa\r\n",
      "  Boot ID:                    b1cb8acf-9743-40ac-a04e-c73596e1f191\r\n",
      "  Kernel Version:             5.4.144+\r\n",
      "  OS Image:                   Container-Optimized OS from Google\r\n",
      "  Operating System:           linux\r\n",
      "  Architecture:               amd64\r\n",
      "  Container Runtime Version:  containerd://1.4.8\r\n",
      "  Kubelet Version:            v1.21.5-gke.1302\r\n",
      "  Kube-Proxy Version:         v1.21.5-gke.1302\r\n",
      "PodCIDR:                      10.112.0.0/24\r\n",
      "PodCIDRs:                     10.112.0.0/24\r\n",
      "ProviderID:                   gce://kavi-prod-gke-demo/us-central1-c/gke-demo-cluster-small-compute-c8fb2aa8-g1tw\r\n",
      "Non-terminated Pods:          (14 in total)\r\n",
      "  Namespace                   Name                                                       CPU Requests  CPU Limits  Memory Requests  Memory Limits  Age\r\n",
      "  ---------                   ----                                                       ------------  ----------  ---------------  -------------  ---\r\n",
      "  api                         flask-hello-world-5785b75dcc-fbgh7                         0 (0%)        0 (0%)      0 (0%)           0 (0%)         21m\r\n",
      "  default                     nginx                                                      0 (0%)        0 (0%)      0 (0%)           0 (0%)         5h40m\r\n",
      "  kube-system                 event-exporter-gke-5479fd58c8-9zx5j                        0 (0%)        0 (0%)      0 (0%)           0 (0%)         6h52m\r\n",
      "  kube-system                 fluentbit-gke-cvhjk                                        100m (10%)    0 (0%)      200Mi (14%)      500Mi (36%)    6h27m\r\n",
      "  kube-system                 gke-metrics-agent-4c4xx                                    3m (0%)       0 (0%)      50Mi (3%)        50Mi (3%)      6h27m\r\n",
      "  kube-system                 konnectivity-agent-6cf6f98c-z2c45                          10m (1%)      0 (0%)      30Mi (2%)        30Mi (2%)      6h52m\r\n",
      "  kube-system                 konnectivity-agent-autoscaler-5c49cb58bb-x65c9             10m (1%)      0 (0%)      10M (0%)         0 (0%)         6h52m\r\n",
      "  kube-system                 kube-dns-697dc8fc8b-5jszm                                  260m (27%)    0 (0%)      110Mi (7%)       210Mi (15%)    6h52m\r\n",
      "  kube-system                 kube-dns-autoscaler-844c9d9448-gmgsm                       20m (2%)      0 (0%)      10Mi (0%)        0 (0%)         6h52m\r\n",
      "  kube-system                 kube-proxy-gke-demo-cluster-small-compute-c8fb2aa8-g1tw    100m (10%)    0 (0%)      0 (0%)           0 (0%)         6h27m\r\n",
      "  kube-system                 l7-default-backend-865b4c8f8b-mrbr8                        10m (1%)      0 (0%)      20Mi (1%)        0 (0%)         6h52m\r\n",
      "  kube-system                 metrics-server-v0.4.4-857776bc9c-zhkpl                     48m (5%)      143m (15%)  105Mi (7%)       355Mi (25%)    6h26m\r\n",
      "  kube-system                 pdcsi-node-fvwg6                                           10m (1%)      0 (0%)      20Mi (1%)        100Mi (7%)     6h27m\r\n",
      "  nginx                       nginx                                                      0 (0%)        0 (0%)      0 (0%)           0 (0%)         4h45m\r\n",
      "Allocated resources:\r\n",
      "  (Total limits may be over 100 percent, i.e., overcommitted.)\r\n",
      "  Resource                   Requests         Limits\r\n",
      "  --------                   --------         ------\r\n",
      "  cpu                        571m (60%)       143m (15%)\r\n",
      "  memory                     581473920 (40%)  1245Mi (90%)\r\n",
      "  ephemeral-storage          0 (0%)           0 (0%)\r\n",
      "  hugepages-1Gi              0 (0%)           0 (0%)\r\n",
      "  hugepages-2Mi              0 (0%)           0 (0%)\r\n",
      "  attachable-volumes-gce-pd  0                0\r\n",
      "Events:\r\n",
      "  Type     Reason            Age   From            Message\r\n",
      "  ----     ------            ----  ----            -------\r\n",
      "  Warning  NodeSysctlChange  27m   sysctl-monitor  {\"unmanaged\": {\"fs.aio-nr\": \"64\", \"net.ipv4.tcp_fastopen_key\": \"629b9ffa-d24a967e-c3956ba3-9fe8f48d\", \"net.netfilter.nf_conntrack_buckets\": \"32768\"}}\r\n"
     ]
    }
   ],
   "source": [
    "# Describe nodes\n",
    "!kubectl describe nodes/gke-demo-cluster-small-compute-c8fb2aa8-g1tw"
   ]
  },
  {
   "cell_type": "code",
   "execution_count": 44,
   "id": "dcbfa190",
   "metadata": {
    "slideshow": {
     "slide_type": "subslide"
    }
   },
   "outputs": [
    {
     "name": "stdout",
     "output_type": "stream",
     "text": [
      "No resources found in default namespace.\r\n"
     ]
    }
   ],
   "source": [
    "# Get Pods (List)\n",
    "!kubectl get pods"
   ]
  },
  {
   "cell_type": "code",
   "execution_count": 45,
   "id": "8893b2fc",
   "metadata": {},
   "outputs": [
    {
     "name": "stdout",
     "output_type": "stream",
     "text": [
      "No resources found in default namespace.\r\n"
     ]
    }
   ],
   "source": [
    "# kubectl get service\n",
    "!kubectl get deploy"
   ]
  },
  {
   "cell_type": "code",
   "execution_count": 124,
   "id": "885c1c84",
   "metadata": {
    "slideshow": {
     "slide_type": "slide"
    }
   },
   "outputs": [
    {
     "name": "stdout",
     "output_type": "stream",
     "text": [
      "NAMESPACE     NAME                                      TYPE           CLUSTER-IP     EXTERNAL-IP    PORT(S)          AGE\n",
      "api           service/flask-hello-world-load-balancer   LoadBalancer   10.116.11.36   34.123.53.51   5000:31892/TCP   13m\n",
      "default       service/kubernetes                        ClusterIP      10.116.0.1     <none>         443/TCP          9h\n",
      "kube-system   service/default-http-backend              NodePort       10.116.0.109   <none>         80:31703/TCP     9h\n",
      "kube-system   service/kube-dns                          ClusterIP      10.116.0.10    <none>         53/UDP,53/TCP    9h\n",
      "kube-system   service/metrics-server                    ClusterIP      10.116.5.131   <none>         443/TCP          9h\n",
      "\n",
      "NAMESPACE     NAME                                            READY   UP-TO-DATE   AVAILABLE   AGE\n",
      "api           deployment.apps/flask-hello-world               1/1     1            1           114s\n",
      "gcloud        deployment.apps/gcloud-service                  1/1     1            1           13m\n",
      "kube-system   deployment.apps/event-exporter-gke              1/1     1            1           9h\n",
      "kube-system   deployment.apps/konnectivity-agent              1/1     1            1           9h\n",
      "kube-system   deployment.apps/konnectivity-agent-autoscaler   1/1     1            1           9h\n",
      "kube-system   deployment.apps/kube-dns                        1/1     1            1           9h\n",
      "kube-system   deployment.apps/kube-dns-autoscaler             1/1     1            1           9h\n",
      "kube-system   deployment.apps/l7-default-backend              1/1     1            1           9h\n",
      "kube-system   deployment.apps/metrics-server-v0.4.4           1/1     1            1           9h\n",
      "\n",
      "NAMESPACE     NAME                                                          READY   STATUS    RESTARTS   AGE\n",
      "api           pod/flask-hello-world-5785b75dcc-6srm4                        1/1     Running   0          114s\n",
      "gcloud        pod/gcloud-service-87f8966cf-qjbnw                            1/1     Running   0          13m\n",
      "kube-system   pod/event-exporter-gke-5479fd58c8-9zx5j                       2/2     Running   0          9h\n",
      "kube-system   pod/fluentbit-gke-cvhjk                                       2/2     Running   0          9h\n",
      "kube-system   pod/gke-metrics-agent-4c4xx                                   1/1     Running   0          9h\n",
      "kube-system   pod/konnectivity-agent-6cf6f98c-z2c45                         1/1     Running   0          9h\n",
      "kube-system   pod/konnectivity-agent-autoscaler-5c49cb58bb-x65c9            1/1     Running   0          9h\n",
      "kube-system   pod/kube-dns-697dc8fc8b-5jszm                                 4/4     Running   0          9h\n",
      "kube-system   pod/kube-dns-autoscaler-844c9d9448-gmgsm                      1/1     Running   0          9h\n",
      "kube-system   pod/kube-proxy-gke-demo-cluster-small-compute-c8fb2aa8-g1tw   1/1     Running   0          9h\n",
      "kube-system   pod/l7-default-backend-865b4c8f8b-mrbr8                       1/1     Running   0          9h\n",
      "kube-system   pod/metrics-server-v0.4.4-857776bc9c-zhkpl                    2/2     Running   0          9h\n",
      "kube-system   pod/pdcsi-node-fvwg6                                          2/2     Running   0          9h\n",
      "nginx         pod/nginx                                                     1/1     Running   0          14m\n"
     ]
    }
   ],
   "source": [
    "# View the default\n",
    "!kubectl get svc,deploy,pods -A"
   ]
  },
  {
   "cell_type": "markdown",
   "id": "9f3b5736",
   "metadata": {
    "slideshow": {
     "slide_type": "slide"
    }
   },
   "source": [
    "### Creating a NameSpace"
   ]
  },
  {
   "cell_type": "code",
   "execution_count": 59,
   "id": "a4348829",
   "metadata": {},
   "outputs": [
    {
     "name": "stdout",
     "output_type": "stream",
     "text": [
      "namespace/api created\r\n"
     ]
    }
   ],
   "source": [
    "# kubectl create namespace\n",
    "!kubectl create namespace api"
   ]
  },
  {
   "cell_type": "code",
   "execution_count": 60,
   "id": "6cbf5674",
   "metadata": {},
   "outputs": [
    {
     "name": "stdout",
     "output_type": "stream",
     "text": [
      "NAME              STATUS   AGE\r\n",
      "api               Active   2s\r\n",
      "default           Active   7h40m\r\n",
      "gcloud            Active   6h28m\r\n",
      "kube-node-lease   Active   7h40m\r\n",
      "kube-public       Active   7h40m\r\n",
      "kube-system       Active   7h40m\r\n",
      "nginx             Active   6h28m\r\n"
     ]
    }
   ],
   "source": [
    "# kubectl get namespaces\n",
    "!kubectl get namespaces"
   ]
  },
  {
   "cell_type": "code",
   "execution_count": 112,
   "id": "7fd90bcb",
   "metadata": {
    "slideshow": {
     "slide_type": "slide"
    }
   },
   "outputs": [
    {
     "name": "stdout",
     "output_type": "stream",
     "text": [
      "namespace/api created\n",
      "namespace/nginx created\n",
      "Error from server (AlreadyExists): namespaces \"gcloud\" already exists\n"
     ]
    }
   ],
   "source": [
    "# kubectl create namespace (for the sake of the example)\n",
    "!kubectl create namespace api\n",
    "!kubectl create namespace nginx\n",
    "!kubectl create namespace gcloud"
   ]
  },
  {
   "cell_type": "markdown",
   "id": "32157f8a",
   "metadata": {
    "slideshow": {
     "slide_type": "slide"
    }
   },
   "source": [
    "### Creating a Pod\n",
    "\n",
    "```yaml\n",
    "apiVersion: v1\n",
    "kind: Pod\n",
    "metadata:\n",
    "  name: nginx\n",
    "spec:\n",
    "  containers:\n",
    "  - name: nginx\n",
    "    image: nginx:1.14.2\n",
    "    ports:\n",
    "    - containerPort: 80\n",
    " ```"
   ]
  },
  {
   "cell_type": "code",
   "execution_count": 113,
   "id": "692b2b71",
   "metadata": {
    "slideshow": {
     "slide_type": "slide"
    }
   },
   "outputs": [
    {
     "name": "stdout",
     "output_type": "stream",
     "text": [
      "pod/nginx created\r\n"
     ]
    }
   ],
   "source": [
    "# Create a pod\n",
    "!kubectl apply -f configurations/nginx.yaml -n nginx"
   ]
  },
  {
   "cell_type": "code",
   "execution_count": 96,
   "id": "199e27e5",
   "metadata": {},
   "outputs": [
    {
     "name": "stdout",
     "output_type": "stream",
     "text": [
      "NAME    READY   STATUS    RESTARTS   AGE\r\n",
      "nginx   1/1     Running   0          25m\r\n"
     ]
    }
   ],
   "source": [
    "# view pod\n",
    "!kubectl get pods -n nginx"
   ]
  },
  {
   "cell_type": "code",
   "execution_count": 40,
   "id": "b4b59845",
   "metadata": {},
   "outputs": [
    {
     "name": "stdout",
     "output_type": "stream",
     "text": [
      "pod \"nginx\" deleted\r\n"
     ]
    }
   ],
   "source": [
    "# delete a specific pod using a configuration.\n",
    "# (you can also us the pod id)\n",
    "!kubectl delete -f configurations/nginx.yaml -n nginx"
   ]
  },
  {
   "cell_type": "markdown",
   "id": "8283f0b7",
   "metadata": {
    "slideshow": {
     "slide_type": "slide"
    }
   },
   "source": [
    "- The community generally recommends one container per pod but you can have more\n",
    "- one container per pod makes rolling updates easier.\n",
    "- Pods are also great for cluster troubleshooting. I will create dnsutils and sdk pods to troubleshooing my deployment configuration, networking, and rbac issues."
   ]
  },
  {
   "cell_type": "markdown",
   "id": "c8077431",
   "metadata": {
    "slideshow": {
     "slide_type": "slide"
    }
   },
   "source": [
    "### Creating a Deployment\n",
    "\n",
    "```yaml\n",
    "apiVersion: apps/v1\n",
    "kind: Deployment\n",
    "metadata:\n",
    "  name: gcloud-service\n",
    "spec:\n",
    "  replicas: 1\n",
    "  selector:\n",
    "    matchLabels: \n",
    "      app: gcloud-service\n",
    "  template:\n",
    "    metadata:\n",
    "      labels:\n",
    "        app: gcloud-service\n",
    "    spec:\n",
    "      containers:\n",
    "      - name: gcloud\n",
    "        image: gcr.io/google.com/cloudsdktool/cloud-sdk:latest\n",
    "        command: [\"sleep\", \"infinity\"]\n",
    "        imagePullPolicy: \"Always\"\n",
    "```"
   ]
  },
  {
   "cell_type": "code",
   "execution_count": 114,
   "id": "1ca98e90",
   "metadata": {
    "slideshow": {
     "slide_type": "slide"
    }
   },
   "outputs": [
    {
     "name": "stdout",
     "output_type": "stream",
     "text": [
      "deployment.apps/gcloud-service created\r\n"
     ]
    }
   ],
   "source": [
    "# Creating a deployment within the \"api\" namespace\n",
    "!kubectl apply -f configurations/gcloud.yaml -n gcloud"
   ]
  },
  {
   "cell_type": "code",
   "execution_count": 116,
   "id": "3b808257",
   "metadata": {},
   "outputs": [
    {
     "name": "stdout",
     "output_type": "stream",
     "text": [
      "NAME             READY   UP-TO-DATE   AVAILABLE   AGE\r\n",
      "gcloud-service   1/1     1            1           3m4s\r\n"
     ]
    }
   ],
   "source": [
    "# view deployment\n",
    "!kubectl get deploy -n gcloud"
   ]
  },
  {
   "cell_type": "code",
   "execution_count": 74,
   "id": "1f2752f2",
   "metadata": {
    "slideshow": {
     "slide_type": "-"
    }
   },
   "outputs": [
    {
     "name": "stdout",
     "output_type": "stream",
     "text": [
      "NAME                             READY   STATUS    RESTARTS   AGE\r\n",
      "gcloud-service-87f8966cf-t9jm6   1/1     Running   0          6s\r\n"
     ]
    }
   ],
   "source": [
    "# view pods\n",
    "!kubectl get pods -n gcloud"
   ]
  },
  {
   "cell_type": "code",
   "execution_count": 82,
   "id": "52c28629",
   "metadata": {
    "slideshow": {
     "slide_type": "slide"
    }
   },
   "outputs": [
    {
     "name": "stdout",
     "output_type": "stream",
     "text": [
      "Name:                   gcloud-service\r\n",
      "Namespace:              gcloud\r\n",
      "CreationTimestamp:      Mon, 06 Dec 2021 07:27:03 +0000\r\n",
      "Labels:                 <none>\r\n",
      "Annotations:            deployment.kubernetes.io/revision: 1\r\n",
      "Selector:               app=gcloud-service\r\n",
      "Replicas:               1 desired | 1 updated | 1 total | 1 available | 0 unavailable\r\n",
      "StrategyType:           RollingUpdate\r\n",
      "MinReadySeconds:        0\r\n",
      "RollingUpdateStrategy:  25% max unavailable, 25% max surge\r\n",
      "Pod Template:\r\n",
      "  Labels:  app=gcloud-service\r\n",
      "  Containers:\r\n",
      "   gcloud:\r\n",
      "    Image:      gcr.io/google.com/cloudsdktool/cloud-sdk:latest\r\n",
      "    Port:       <none>\r\n",
      "    Host Port:  <none>\r\n",
      "    Command:\r\n",
      "      sleep\r\n",
      "      infinity\r\n",
      "    Environment:  <none>\r\n",
      "    Mounts:       <none>\r\n",
      "  Volumes:        <none>\r\n",
      "Conditions:\r\n",
      "  Type           Status  Reason\r\n",
      "  ----           ------  ------\r\n",
      "  Available      True    MinimumReplicasAvailable\r\n",
      "  Progressing    True    NewReplicaSetAvailable\r\n",
      "OldReplicaSets:  <none>\r\n",
      "NewReplicaSet:   gcloud-service-87f8966cf (1/1 replicas created)\r\n",
      "Events:\r\n",
      "  Type    Reason             Age   From                   Message\r\n",
      "  ----    ------             ----  ----                   -------\r\n",
      "  Normal  ScalingReplicaSet  104s  deployment-controller  Scaled up replica set gcloud-service-87f8966cf to 1\r\n"
     ]
    }
   ],
   "source": [
    "# Describe deployment\n",
    "!kubectl describe deploy gcloud-service -n gcloud"
   ]
  },
  {
   "cell_type": "code",
   "execution_count": 84,
   "id": "c1342a2a",
   "metadata": {
    "slideshow": {
     "slide_type": "slide"
    }
   },
   "outputs": [
    {
     "name": "stdout",
     "output_type": "stream",
     "text": [
      "deployment.apps \"gcloud-service\" deleted\r\n"
     ]
    }
   ],
   "source": [
    "# kubectl delete deployment within the \"api\" namespace\n",
    "!kubectl delete deploy gcloud-service -n gcloud"
   ]
  },
  {
   "cell_type": "markdown",
   "id": "b80e81ea",
   "metadata": {
    "slideshow": {
     "slide_type": "slide"
    }
   },
   "source": [
    "### Events"
   ]
  },
  {
   "cell_type": "code",
   "execution_count": 117,
   "id": "9ee8f5f1",
   "metadata": {
    "slideshow": {
     "slide_type": "-"
    }
   },
   "outputs": [
    {
     "name": "stdout",
     "output_type": "stream",
     "text": [
      "NAMESPACE   LAST SEEN   TYPE     REASON                 OBJECT                                    MESSAGE\r\n",
      "api         3m37s       Normal   Scheduled              pod/flask-hello-world-5785b75dcc-27d2t    Successfully assigned api/flask-hello-world-5785b75dcc-27d2t to gke-demo-cluster-small-compute-c8fb2aa8-g1tw\r\n",
      "api         3m37s       Normal   Pulling                pod/flask-hello-world-5785b75dcc-27d2t    Pulling image \"gcr.io/kavi-prod-gke-demo/flask_hello_world:dev\"\r\n",
      "api         3m36s       Normal   Pulled                 pod/flask-hello-world-5785b75dcc-27d2t    Successfully pulled image \"gcr.io/kavi-prod-gke-demo/flask_hello_world:dev\" in 191.583422ms\r\n",
      "api         3m36s       Normal   Created                pod/flask-hello-world-5785b75dcc-27d2t    Created container flask-hello-world\r\n",
      "api         3m36s       Normal   Started                pod/flask-hello-world-5785b75dcc-27d2t    Started container flask-hello-world\r\n",
      "api         3m37s       Normal   SuccessfulCreate       replicaset/flask-hello-world-5785b75dcc   Created pod: flask-hello-world-5785b75dcc-27d2t\r\n",
      "api         3m37s       Normal   EnsuringLoadBalancer   service/flask-hello-world-load-balancer   Ensuring load balancer\r\n",
      "api         2m52s       Normal   EnsuredLoadBalancer    service/flask-hello-world-load-balancer   Ensured load balancer\r\n",
      "api         3m37s       Normal   ScalingReplicaSet      deployment/flask-hello-world              Scaled up replica set flask-hello-world-5785b75dcc to 1\r\n",
      "gcloud      3m47s       Normal   Scheduled              pod/gcloud-service-87f8966cf-qjbnw        Successfully assigned gcloud/gcloud-service-87f8966cf-qjbnw to gke-demo-cluster-small-compute-c8fb2aa8-g1tw\r\n",
      "gcloud      3m46s       Normal   Pulling                pod/gcloud-service-87f8966cf-qjbnw        Pulling image \"gcr.io/google.com/cloudsdktool/cloud-sdk:latest\"\r\n",
      "gcloud      3m46s       Normal   Pulled                 pod/gcloud-service-87f8966cf-qjbnw        Successfully pulled image \"gcr.io/google.com/cloudsdktool/cloud-sdk:latest\" in 88.631829ms\r\n",
      "gcloud      3m46s       Normal   Created                pod/gcloud-service-87f8966cf-qjbnw        Created container gcloud\r\n",
      "gcloud      3m46s       Normal   Started                pod/gcloud-service-87f8966cf-qjbnw        Started container gcloud\r\n",
      "gcloud      3m47s       Normal   SuccessfulCreate       replicaset/gcloud-service-87f8966cf       Created pod: gcloud-service-87f8966cf-qjbnw\r\n",
      "gcloud      3m47s       Normal   ScalingReplicaSet      deployment/gcloud-service                 Scaled up replica set gcloud-service-87f8966cf to 1\r\n",
      "nginx       4m2s        Normal   Scheduled              pod/nginx                                 Successfully assigned nginx/nginx to gke-demo-cluster-small-compute-c8fb2aa8-g1tw\r\n",
      "nginx       4m2s        Normal   Pulled                 pod/nginx                                 Container image \"nginx:1.14.2\" already present on machine\r\n",
      "nginx       4m2s        Normal   Created                pod/nginx                                 Created container nginx\r\n",
      "nginx       4m2s        Normal   Started                pod/nginx                                 Started container nginx\r\n"
     ]
    }
   ],
   "source": [
    "# We call also the event the cluster is taking \n",
    "# (helpful in troubleshooting any image permissions issue)\n",
    "!kubectl get events -A"
   ]
  },
  {
   "cell_type": "markdown",
   "id": "c4d5a5ff",
   "metadata": {
    "slideshow": {
     "slide_type": "slide"
    }
   },
   "source": [
    "### Shell into a Deployment"
   ]
  },
  {
   "cell_type": "code",
   "execution_count": 118,
   "id": "adeb94ec",
   "metadata": {},
   "outputs": [
    {
     "name": "stdout",
     "output_type": "stream",
     "text": [
      "NAME                             READY   STATUS    RESTARTS   AGE     IP            NODE                                           NOMINATED NODE   READINESS GATES\r\n",
      "gcloud-service-87f8966cf-qjbnw   1/1     Running   0          4m17s   10.112.0.32   gke-demo-cluster-small-compute-c8fb2aa8-g1tw   <none>           <none>\r\n"
     ]
    }
   ],
   "source": [
    "# View pods\n",
    "!kubectl get pods --output=wide -n gcloud"
   ]
  },
  {
   "cell_type": "code",
   "execution_count": 121,
   "id": "2676d1bc",
   "metadata": {
    "slideshow": {
     "slide_type": "slide"
    }
   },
   "outputs": [
    {
     "name": "stdout",
     "output_type": "stream",
     "text": [
      "NAMESPACE     NAME                            READY   UP-TO-DATE   AVAILABLE   AGE\r\n",
      "gcloud        gcloud-service                  1/1     1            1           4m54s\r\n",
      "kube-system   event-exporter-gke              1/1     1            1           9h\r\n",
      "kube-system   konnectivity-agent              1/1     1            1           9h\r\n",
      "kube-system   konnectivity-agent-autoscaler   1/1     1            1           9h\r\n",
      "kube-system   kube-dns                        1/1     1            1           9h\r\n",
      "kube-system   kube-dns-autoscaler             1/1     1            1           9h\r\n",
      "kube-system   l7-default-backend              1/1     1            1           9h\r\n",
      "kube-system   metrics-server-v0.4.4           1/1     1            1           9h\r\n"
     ]
    }
   ],
   "source": [
    "# List deployment across all namespaces\n",
    "!kubectl get deploy -A"
   ]
  },
  {
   "cell_type": "code",
   "execution_count": 58,
   "id": "acdf755a",
   "metadata": {
    "slideshow": {
     "slide_type": "slide"
    }
   },
   "outputs": [
    {
     "name": "stdout",
     "output_type": "stream",
     "text": [
      "root@gcloud-service-87f8966cf-prsq8:/# ^C\n",
      "\n",
      "root@gcloud-service-87f8966cf-prsq8:/# "
     ]
    }
   ],
   "source": [
    "# exec into a deployment if you need to troubleshooting and active pods or deployment\n",
    "# !kubectl exec -it deploy/gcloud-service -n gcloud -- /bin/bash"
   ]
  },
  {
   "cell_type": "markdown",
   "id": "5c2946ef",
   "metadata": {
    "slideshow": {
     "slide_type": "slide"
    }
   },
   "source": [
    "### Flask API Deployment\n",
    "\n",
    "Code for a simple python app.\n",
    "\n",
    "```Python\n",
    "from flask import Flask\n",
    "\n",
    "app = Flask(__name__)\n",
    "\n",
    "\n",
    "@app.route(\"/\")\n",
    "def hello():\n",
    "    return \"Hello from Python!\"\n",
    "\n",
    "\n",
    "if __name__ == \"__main__\":\n",
    "    app.run(host=\"0.0.0.0\")\n",
    "\n",
    "\n",
    "```"
   ]
  },
  {
   "cell_type": "markdown",
   "id": "4fd998c9",
   "metadata": {
    "slideshow": {
     "slide_type": "slide"
    }
   },
   "source": [
    "```Dockefile\n",
    "FROM python:3.7\n",
    "\n",
    "RUN mkdir /app\n",
    "WORKDIR /app\n",
    "ADD . /app/\n",
    "RUN pip install -r requirements.txt\n",
    "\n",
    "EXPOSE 5000\n",
    "CMD [\"python\", \"/app/main.py\"]\n",
    "```"
   ]
  },
  {
   "cell_type": "markdown",
   "id": "649b2789",
   "metadata": {
    "slideshow": {
     "slide_type": "slide"
    }
   },
   "source": [
    "\n",
    "```yaml\n",
    "apiVersion: apps/v1\n",
    "kind: Deployment\n",
    "metadata:\n",
    "  name: flask-hello-world\n",
    "spec:\n",
    "  replicas: 1\n",
    "  selector:\n",
    "    matchLabels: \n",
    "      app: flask-hello-world\n",
    "  template:\n",
    "    metadata:\n",
    "      labels:\n",
    "        app: flask-hello-world\n",
    "    spec:\n",
    "      containers:\n",
    "      - name: flask-hello-world\n",
    "        image: gcr.io/kavi-prod-gke-demo/flask_hello_world:dev\n",
    "        imagePullPolicy: \"Always\"\n",
    "        ports:\n",
    "        - containerPort: 5000\n",
    "\n",
    "---\n",
    "\n",
    "apiVersion: v1\n",
    "kind: Service\n",
    "metadata:\n",
    "  name: flask-hello-world-load-balancer\n",
    "spec:\n",
    "  type: LoadBalancer\n",
    "  selector:\n",
    "    app: flask-hello-world\n",
    "  ports:\n",
    "  - protocol: TCP\n",
    "    port: 5000\n",
    "    targetPort: 5000\n",
    "```"
   ]
  },
  {
   "cell_type": "code",
   "execution_count": 122,
   "id": "d28e7c1f",
   "metadata": {
    "slideshow": {
     "slide_type": "slide"
    }
   },
   "outputs": [
    {
     "name": "stdout",
     "output_type": "stream",
     "text": [
      "No resources found in api namespace.\r\n"
     ]
    }
   ],
   "source": [
    "# List pods\n",
    "!kubectl get pods -n api"
   ]
  },
  {
   "cell_type": "code",
   "execution_count": 123,
   "id": "37961a2c",
   "metadata": {
    "slideshow": {
     "slide_type": "slide"
    }
   },
   "outputs": [
    {
     "name": "stdout",
     "output_type": "stream",
     "text": [
      "deployment.apps/flask-hello-world created\n",
      "service/flask-hello-world-load-balancer unchanged\n"
     ]
    }
   ],
   "source": [
    "# Create flask deployment.\n",
    "!kubectl apply -f configurations/flask_hello_world.yaml -n api"
   ]
  },
  {
   "cell_type": "code",
   "execution_count": 93,
   "id": "6c09203d",
   "metadata": {
    "slideshow": {
     "slide_type": "-"
    }
   },
   "outputs": [
    {
     "name": "stdout",
     "output_type": "stream",
     "text": [
      "Found 2 pods, using pod/flask-hello-world-5785b75dcc-ksbl2\n",
      " * Serving Flask app 'main' (lazy loading)\n",
      " * Environment: production\n",
      "   WARNING: This is a development server. Do not use it in a production deployment.\n",
      "   Use a production WSGI server instead.\n",
      " * Debug mode: off\n",
      " * Running on all addresses.\n",
      "   WARNING: This is a development server. Do not use it in a production deployment.\n",
      " * Running on http://10.112.0.29:5000/ (Press CTRL+C to quit)\n"
     ]
    }
   ],
   "source": [
    "# view log of the applications\n",
    "!kubectl logs  deployment.apps/flask-hello-world -n api"
   ]
  },
  {
   "cell_type": "code",
   "execution_count": 94,
   "id": "d127437f",
   "metadata": {
    "slideshow": {
     "slide_type": "slide"
    }
   },
   "outputs": [
    {
     "name": "stdout",
     "output_type": "stream",
     "text": [
      "NAMESPACE     NAME                                      TYPE           CLUSTER-IP      EXTERNAL-IP    PORT(S)          AGE\n",
      "api           service/flask-hello-world-load-balancer   LoadBalancer   10.116.13.255   34.123.53.51   5000:32715/TCP   106s\n",
      "default       service/kubernetes                        ClusterIP      10.116.0.1      <none>         443/TCP          8h\n",
      "kube-system   service/default-http-backend              NodePort       10.116.0.109    <none>         80:31703/TCP     8h\n",
      "kube-system   service/kube-dns                          ClusterIP      10.116.0.10     <none>         53/UDP,53/TCP    8h\n",
      "kube-system   service/metrics-server                    ClusterIP      10.116.5.131    <none>         443/TCP          8h\n",
      "\n",
      "NAMESPACE     NAME                                            READY   UP-TO-DATE   AVAILABLE   AGE\n",
      "api           deployment.apps/flask-hello-world               1/1     1            1           79s\n",
      "kube-system   deployment.apps/event-exporter-gke              1/1     1            1           8h\n",
      "kube-system   deployment.apps/konnectivity-agent              1/1     1            1           8h\n",
      "kube-system   deployment.apps/konnectivity-agent-autoscaler   1/1     1            1           8h\n",
      "kube-system   deployment.apps/kube-dns                        1/1     1            1           8h\n",
      "kube-system   deployment.apps/kube-dns-autoscaler             1/1     1            1           8h\n",
      "kube-system   deployment.apps/l7-default-backend              1/1     1            1           8h\n",
      "kube-system   deployment.apps/metrics-server-v0.4.4           1/1     1            1           8h\n",
      "\n",
      "NAMESPACE     NAME                                                          READY   STATUS    RESTARTS   AGE\n",
      "api           pod/flask-hello-world-5785b75dcc-pm9td                        1/1     Running   0          79s\n",
      "kube-system   pod/event-exporter-gke-5479fd58c8-9zx5j                       2/2     Running   0          8h\n",
      "kube-system   pod/fluentbit-gke-cvhjk                                       2/2     Running   0          8h\n",
      "kube-system   pod/gke-metrics-agent-4c4xx                                   1/1     Running   0          8h\n",
      "kube-system   pod/konnectivity-agent-6cf6f98c-z2c45                         1/1     Running   0          8h\n",
      "kube-system   pod/konnectivity-agent-autoscaler-5c49cb58bb-x65c9            1/1     Running   0          8h\n",
      "kube-system   pod/kube-dns-697dc8fc8b-5jszm                                 4/4     Running   0          8h\n",
      "kube-system   pod/kube-dns-autoscaler-844c9d9448-gmgsm                      1/1     Running   0          8h\n",
      "kube-system   pod/kube-proxy-gke-demo-cluster-small-compute-c8fb2aa8-g1tw   1/1     Running   0          8h\n",
      "kube-system   pod/l7-default-backend-865b4c8f8b-mrbr8                       1/1     Running   0          8h\n",
      "kube-system   pod/metrics-server-v0.4.4-857776bc9c-zhkpl                    2/2     Running   0          8h\n",
      "kube-system   pod/pdcsi-node-fvwg6                                          2/2     Running   0          8h\n",
      "nginx         pod/nginx                                                     1/1     Running   0          25m\n"
     ]
    }
   ],
   "source": [
    "!kubectl get svc,deploy,pods -A"
   ]
  },
  {
   "cell_type": "markdown",
   "id": "cbf0118f",
   "metadata": {
    "slideshow": {
     "slide_type": "slide"
    }
   },
   "source": [
    "You can now navigate to http://34.123.53.51:5000\n",
    "(active for only today)"
   ]
  },
  {
   "cell_type": "code",
   "execution_count": 120,
   "id": "bb74a7a0",
   "metadata": {
    "slideshow": {
     "slide_type": "slide"
    }
   },
   "outputs": [
    {
     "name": "stdout",
     "output_type": "stream",
     "text": [
      "deployment.apps \"flask-hello-world\" deleted\r\n"
     ]
    }
   ],
   "source": [
    "# Delete flask deployment\n",
    "!kubectl delete deploy/flask-hello-world -n api"
   ]
  },
  {
   "cell_type": "code",
   "execution_count": 107,
   "id": "236a8dd4",
   "metadata": {
    "slideshow": {
     "slide_type": "slide"
    }
   },
   "outputs": [
    {
     "name": "stdout",
     "output_type": "stream",
     "text": [
      "Error from server (NotFound): deployments.apps \"gcloud-service\" not found\n",
      "Error from server (NotFound): deployments.apps \"flask-\" not found\n",
      "Error from server (NotFound): deployments.apps \"gcloud-service\" not found\n",
      "namespace \"api\" deleted\n",
      "namespace \"nginx\" deleted\n",
      "Unable to connect to the server: error executing access token command \"/Users/kavi/google-cloud-sdk/bin/gcloud config config-helper --format=json\": err=fork/exec /Users/kavi/google-cloud-sdk/bin/gcloud: no such file or directory output= stderr=\n"
     ]
    }
   ],
   "source": [
    "# clean up everything. kubect delete deployment and namespace\n",
    "!kubectl delete deploy gcloud-service -n gcloud\n",
    "!kubectl delete deploy flask- -n gcloud\n",
    "!kubectl delete deploy gcloud-service -n gcloud\n",
    "!kubectl delete namespace api\n",
    "!kubectl delete namespace nginx\n",
    "!kubectl delete namespace gcloud"
   ]
  },
  {
   "cell_type": "markdown",
   "id": "107ce528",
   "metadata": {
    "slideshow": {
     "slide_type": "slide"
    }
   },
   "source": [
    "### References\n",
    "\n",
    "- https://github.com/kavisek/service-kavi-flask-hello-world\n",
    "- https://github.com/kavisek/terraform-kavi-gke-demo\n",
    "- https://kubernetes.io\n",
    "- https://kubernetes.io/docs/reference/kubectl/cheatsheet/\n",
    "- IBM Talks\n",
    "    - https://www.youtube.com/watch?v=BgrQ16r84pM&list=PLOspHqNVtKABAVX4azqPIu6UfsPzSu2YN\n",
    "    - https://www.youtube.com/watch?v=aSrqRSk43lY\n",
    "    - https://www.youtube.com/watch?v=2vMEQ5zs1ko\n",
    "    - https://www.youtube.com/watch?v=BgrQ16r84pM\n",
    "    \n",
    "    "
   ]
  }
 ],
 "metadata": {
  "celltoolbar": "Slideshow",
  "kernelspec": {
   "display_name": "Python 3 (ipykernel)",
   "language": "python",
   "name": "python3"
  },
  "language_info": {
   "codemirror_mode": {
    "name": "ipython",
    "version": 3
   },
   "file_extension": ".py",
   "mimetype": "text/x-python",
   "name": "python",
   "nbconvert_exporter": "python",
   "pygments_lexer": "ipython3",
   "version": "3.8.2"
  }
 },
 "nbformat": 4,
 "nbformat_minor": 5
}
